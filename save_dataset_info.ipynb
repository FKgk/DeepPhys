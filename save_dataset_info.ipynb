{
 "cells": [
  {
   "cell_type": "code",
   "execution_count": 1,
   "metadata": {},
   "outputs": [],
   "source": [
    "import pandas as pd\n",
    "import numpy as np\n",
    "import pyedflib\n",
    "import cv2\n",
    "import os"
   ]
  },
  {
   "cell_type": "code",
   "execution_count": 2,
   "metadata": {},
   "outputs": [],
   "source": [
    "def get_videoInfo(path):\n",
    "    cap = cv2.VideoCapture(path)\n",
    "    \n",
    "    info = dict()\n",
    "    info['length'] = int(cap.get(cv2.CAP_PROP_FRAME_COUNT))\n",
    "    info['fps'] = int(cap.get(cv2.CAP_PROP_FPS))\n",
    "    info['height'] = int(cap.get(cv2.CAP_PROP_FRAME_HEIGHT))    \n",
    "    info['width'] = int(cap.get(cv2.CAP_PROP_FRAME_WIDTH))\n",
    "    info['path'] = path\n",
    "    \n",
    "    cap.release()\n",
    "    \n",
    "    return info\n",
    "\n",
    "def get_ecgIfno(path):\n",
    "    bdf_data = pyedflib.EdfReader(path)\n",
    "    index = bdf_data.getSignalLabels().index('EXG2')\n",
    "    info = bdf_data.getSignalHeader(index)\n",
    "    \n",
    "    assert(bdf_data.getLabel(index) == 'EXG2')\n",
    "    assert(info['sample_rate'] == bdf_data.getSampleFrequency(index))\n",
    "    \n",
    "    info['length'] = bdf_data.samples_in_file(index)\n",
    "    info['path'] = path\n",
    "    bdf_data.close()\n",
    "    \n",
    "    return info"
   ]
  },
  {
   "cell_type": "code",
   "execution_count": 3,
   "metadata": {},
   "outputs": [],
   "source": [
    "video_columns = ['no', 'length', 'fps', 'height', 'width', 'path', 'type']\n",
    "\n",
    "signal_columns = ['no', 'label', 'dimension', 'length', 'sample_rate', 'path', 'signal_path', \\\n",
    "                  'prefilter', 'physical_max', 'physical_min', \\\n",
    "                  'digital_max', 'digital_min', 'transducer', 'type']\n",
    "\n",
    "video_dataset = pd.DataFrame(columns=video_columns)\n",
    "signal_dataset = pd.DataFrame(columns=signal_columns)\n",
    "names = ['train', 'val', 'test']"
   ]
  },
  {
   "cell_type": "code",
   "execution_count": 4,
   "metadata": {},
   "outputs": [],
   "source": [
    "numbers = list()\n",
    "for name in names:\n",
    "    for folder in os.listdir(os.path.join(os.getcwd(), 'data', name)):\n",
    "        numbers.append(int(folder))\n",
    "\n",
    "no2id = dict([(number, i) for i, number in enumerate(sorted(numbers))])"
   ]
  },
  {
   "cell_type": "code",
   "execution_count": 5,
   "metadata": {},
   "outputs": [],
   "source": [
    "for name in names:\n",
    "    base = os.path.join(os.getcwd(), 'data', name)\n",
    "\n",
    "    for folder in os.listdir(base):\n",
    "        video_length, ecg_path = None, None\n",
    "        \n",
    "        for file in os.listdir(os.path.join(base, folder)):\n",
    "            if file.endswith('avi'):\n",
    "                video_length = os.path.join(base, folder, file)\n",
    "            elif file.endswith('bdf'):\n",
    "                ecg_path = os.path.join(base, folder, file)\n",
    "        \n",
    "        if video_length is None or ecg_path is None:\n",
    "            continue\n",
    "        \n",
    "        no = int(folder)\n",
    "        \n",
    "        video_info = get_videoInfo(video_length)\n",
    "        ecg_info = get_ecgIfno(ecg_path)\n",
    "        \n",
    "        video_info.update({'no' : no, 'type': name})\n",
    "        ecg_info.update({'no' : no, 'type': name, 'signal_path': os.path.join(os.getcwd(), 'data', name, folder, 'EXG2.npy') })\n",
    "        \n",
    "        video_dataset.loc[no2id[no]] = video_info\n",
    "        signal_dataset.loc[no2id[no]] = ecg_info"
   ]
  },
  {
   "cell_type": "code",
   "execution_count": 6,
   "metadata": {},
   "outputs": [],
   "source": [
    "sorted_video_dataset = video_dataset.sort_index(ascending=True)\n",
    "sorted_signal_dataset = signal_dataset.sort_index(ascending=True)"
   ]
  },
  {
   "cell_type": "code",
   "execution_count": 7,
   "metadata": {},
   "outputs": [],
   "source": [
    "base = os.path.join(os.getcwd(), 'data')\n",
    "\n",
    "sorted_video_dataset.to_csv(os.path.join(base, 'video_info.csv'), index=False)\n",
    "sorted_signal_dataset.to_csv(os.path.join(base, 'signal_info.csv'), index=False)"
   ]
  }
 ],
 "metadata": {
  "kernelspec": {
   "display_name": "Python [conda env:deephy] *",
   "language": "python",
   "name": "conda-env-deephy-py"
  },
  "language_info": {
   "codemirror_mode": {
    "name": "ipython",
    "version": 3
   },
   "file_extension": ".py",
   "mimetype": "text/x-python",
   "name": "python",
   "nbconvert_exporter": "python",
   "pygments_lexer": "ipython3",
   "version": "3.7.7"
  }
 },
 "nbformat": 4,
 "nbformat_minor": 4
}
